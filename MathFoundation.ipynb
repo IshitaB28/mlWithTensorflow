{
  "nbformat": 4,
  "nbformat_minor": 0,
  "metadata": {
    "colab": {
      "name": "MathFoundation.ipynb",
      "provenance": [],
      "authorship_tag": "ABX9TyONLoXmxVf4y3QA6SswZXJM",
      "include_colab_link": true
    },
    "kernelspec": {
      "name": "python3",
      "display_name": "Python 3"
    },
    "accelerator": "GPU"
  },
  "cells": [
    {
      "cell_type": "markdown",
      "metadata": {
        "id": "view-in-github",
        "colab_type": "text"
      },
      "source": [
        "<a href=\"https://colab.research.google.com/github/IshitaB28/mlWithTensorflow/blob/master/MathFoundation.ipynb\" target=\"_parent\"><img src=\"https://colab.research.google.com/assets/colab-badge.svg\" alt=\"Open In Colab\"/></a>"
      ]
    },
    {
      "cell_type": "code",
      "metadata": {
        "id": "j7Wsg5mdr3Od",
        "colab_type": "code",
        "colab": {}
      },
      "source": [
        "import numpy as np"
      ],
      "execution_count": 0,
      "outputs": []
    },
    {
      "cell_type": "code",
      "metadata": {
        "id": "eZmVjx4ns55s",
        "colab_type": "code",
        "colab": {}
      },
      "source": [
        "w=np.array([[1,0.5], [2,1]])\n",
        "inp=np.array([[1,2],[-1,2]])\n",
        "b=np.array([-2, 0.5])"
      ],
      "execution_count": 0,
      "outputs": []
    },
    {
      "cell_type": "code",
      "metadata": {
        "id": "6s_glYRNtMLv",
        "colab_type": "code",
        "colab": {
          "base_uri": "https://localhost:8080/",
          "height": 51
        },
        "outputId": "1aa4c05a-e9ff-4d1b-d433-e66224e3b76d"
      },
      "source": [
        "z=np.dot(w, inp)+b\n",
        "print(z)"
      ],
      "execution_count": 4,
      "outputs": [
        {
          "output_type": "stream",
          "text": [
            "[[-1.5  3.5]\n",
            " [-1.   6.5]]\n"
          ],
          "name": "stdout"
        }
      ]
    },
    {
      "cell_type": "code",
      "metadata": {
        "id": "A-NotsckuZ_r",
        "colab_type": "code",
        "colab": {
          "base_uri": "https://localhost:8080/",
          "height": 68
        },
        "outputId": "697a4fd1-05dc-4e14-fbd1-b16eb49cf43a"
      },
      "source": [
        "output=np.maximum(0, z) #the relu function\n",
        "print(output.shape)\n",
        "print(output)"
      ],
      "execution_count": 5,
      "outputs": [
        {
          "output_type": "stream",
          "text": [
            "(2, 2)\n",
            "[[0.  3.5]\n",
            " [0.  6.5]]\n"
          ],
          "name": "stdout"
        }
      ]
    },
    {
      "cell_type": "code",
      "metadata": {
        "id": "A7qjf7Wbu8Uw",
        "colab_type": "code",
        "colab": {
          "base_uri": "https://localhost:8080/",
          "height": 296
        },
        "outputId": "80bce9f8-bff3-4d1d-aa47-028eb1be2cb6"
      },
      "source": [
        "import matplotlib.pyplot as plt\n",
        "x=np.linspace(-10, 10, 100)\n",
        "z=np.maximum(0, x)\n",
        "plt.plot(x, z)\n",
        "plt.xlabel(\"X\")\n",
        "plt.ylabel(\"Relu(X)\")"
      ],
      "execution_count": 6,
      "outputs": [
        {
          "output_type": "execute_result",
          "data": {
            "text/plain": [
              "Text(0, 0.5, 'Relu(X)')"
            ]
          },
          "metadata": {
            "tags": []
          },
          "execution_count": 6
        },
        {
          "output_type": "display_data",
          "data": {
            "image/png": "[encoded data removed]",
            "text/plain": [
              "<Figure size 432x288 with 1 Axes>"
            ]
          },
          "metadata": {
            "tags": []
          }
        }
      ]
    },
    {
      "cell_type": "code",
      "metadata": {
        "id": "Y2K5XmDbwPRr",
        "colab_type": "code",
        "colab": {
          "base_uri": "https://localhost:8080/",
          "height": 296
        },
        "outputId": "50d808e5-bc6a-4524-8e53-97847b40fd3b"
      },
      "source": [
        "import math\n",
        "x=np.linspace(-10, 10, 100)\n",
        "z=1/(1+np.exp(-x))\n",
        "plt.plot(x, z)\n",
        "plt.xlabel(\"X\")\n",
        "plt.ylabel(\"Sigmoid(X)\")"
      ],
      "execution_count": 7,
      "outputs": [
        {
          "output_type": "execute_result",
          "data": {
            "text/plain": [
              "Text(0, 0.5, 'Sigmoid(X)')"
            ]
          },
          "metadata": {
            "tags": []
          },
          "execution_count": 7
        },
        {
          "output_type": "display_data",
          "data": {
            "image/png": "[encoded data removed]",
            "text/plain": [
              "<Figure size 432x288 with 1 Axes>"
            ]
          },
          "metadata": {
            "tags": []
          }
        }
      ]
    },
    {
      "cell_type": "code",
      "metadata": {
        "id": "-1P-hFTwxi9X",
        "colab_type": "code",
        "colab": {
          "base_uri": "https://localhost:8080/",
          "height": 51
        },
        "outputId": "b2ab2f1d-1eb2-413d-f939-f99f0afd8bda"
      },
      "source": [
        "#Broadcasting\n",
        "x1=np.random.rand(32, 10)\n",
        "x2=np.random.rand(10,)\n",
        "x2=np.expand_dims(x2, axis=0)\n",
        "print(x2.shape)\n",
        "x2=np.repeat(x2, 32, axis=0)\n",
        "print(x2.shape)"
      ],
      "execution_count": 10,
      "outputs": [
        {
          "output_type": "stream",
          "text": [
            "(1, 10)\n",
            "(32, 10)\n"
          ],
          "name": "stdout"
        }
      ]
    },
    {
      "cell_type": "code",
      "metadata": {
        "id": "hqbrWWoR04Zj",
        "colab_type": "code",
        "colab": {
          "base_uri": "https://localhost:8080/",
          "height": 51
        },
        "outputId": "a9681cab-1fed-4c78-c0ad-8ddfde543134"
      },
      "source": [
        "#reshaping to match rows and columns of the current tensor with the target tensor\n",
        "x=np.array([[0,1],[2,3],[4,5]])\n",
        "print(x.shape)\n",
        "x=x.reshape((6,1))\n",
        "print(x.shape)"
      ],
      "execution_count": 11,
      "outputs": [
        {
          "output_type": "stream",
          "text": [
            "(3, 2)\n",
            "(6, 1)\n"
          ],
          "name": "stdout"
        }
      ]
    },
    {
      "cell_type": "code",
      "metadata": {
        "id": "j-pHTYxO1vrT",
        "colab_type": "code",
        "colab": {}
      },
      "source": [
        ""
      ],
      "execution_count": 0,
      "outputs": []
    }
  ]
}